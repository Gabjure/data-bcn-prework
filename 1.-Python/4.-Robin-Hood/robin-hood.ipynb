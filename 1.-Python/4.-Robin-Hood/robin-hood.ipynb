{
 "cells": [
  {
   "cell_type": "markdown",
   "metadata": {},
   "source": [
    "<img src=\"https://bit.ly/2VnXWr2\" width=\"100\" align=\"left\"/>"
   ]
  },
  {
   "cell_type": "markdown",
   "metadata": {},
   "source": [
    "# Robin Hood\n",
    "Robin Hood has entered a competition to win the archery contest in Sherwood. With his bow and arrows, he needs to shoot on a target and try to hit as close as possible to the center.\n",
    "\n",
    "![](images/arrows.jpg)\n",
    "\n",
    "## Context\n",
    "In this challenge, the landing position of arrows shot by archers in the competition will be represented using 2-dimensional coordinates. \n",
    "\n",
    "In the 2-dimensional space, a point can be defined by a pair of values that correspond to the horizontal coordinate (x) and the vertical coordinate (y). For example, in our case, an arrow that hits the center of the archery target will land in position (0, 0) on the coordinate axes. \n",
    "\n",
    "The space can be divided into 4 zones (quadrants): Q1, Q2, Q3, Q4. If a point is in Q1, both its x coordinate and y coordinate are positive. Any point with a null x or y coordinate is considered to not belong to any quadrant. \n",
    "\n",
    "If you want to know more about the cartesian coordinate system, you can check this [link](https://en.wikipedia.org/wiki/Cartesian_coordinate_system). \n",
    "\n",
    "## Tools\n",
    "You don't necessarily need to use all the tools. Maybe you opt to use some of them or completely different ones, they are given to help you shape the exercise. Programming exercises can be solved in many different ways.\n",
    "* Data structures: **lists, sets, tuples**\n",
    "* Conditional statements: **if-elif-else**\n",
    "* Loop: **while/for**\n",
    "* Minimum (optional sorting)\n",
    "\n",
    "## Tasks\n",
    "Robin Hood has hit the following points:"
   ]
  },
  {
   "cell_type": "code",
   "execution_count": 1,
   "metadata": {},
   "outputs": [
    {
     "name": "stdout",
     "output_type": "stream",
     "text": [
      "[(-8, -9), (-5, 7), (-4, -5), (-4, 5), (-4, 7), (-3, 2), (-3, 2), (-1, 3), (0, -2), (0, 2), (1, -3), (2, 2), (2, 2), (3, -2), (3, 2), (4, 5), (4, 5), (4, 7), (5, 7), (5, 7), (5, 7), (9, 9)]\n"
     ]
    }
   ],
   "source": [
    "points = [(4, 5), (-0, 2), (4, 7), (1, -3), (3, -2), (4, 5), (3, 2), (5, 7), (-5, 7), (2, 2), (-4, 5), (0, -2),\n",
    "          (-4, 7), (-1, 3), (-3, 2), (-4, -5), (-3, 2), (5, 7), (5, 7), (2, 2), (9, 9), (-8, -9)]\n",
    "points.sort()\n",
    "print(points)"
   ]
  },
  {
   "cell_type": "markdown",
   "metadata": {},
   "source": [
    "#### 1. Robin Hood is famous for hitting an arrow with another arrow. Find the coordinates of the points where an arrow hits another arrow."
   ]
  },
  {
   "cell_type": "code",
   "execution_count": 2,
   "metadata": {},
   "outputs": [
    {
     "name": "stdout",
     "output_type": "stream",
     "text": [
      "{(4, 5), (5, 7), (-3, 2), (2, 2)}\n"
     ]
    }
   ],
   "source": [
    "arrow_hits_arrow = set([x for x in points if points.count(x) > 1])\n",
    "print(arrow_hits_arrow)"
   ]
  },
  {
   "cell_type": "markdown",
   "metadata": {},
   "source": [
    "#### 2. Calculate how many arrows have fallen in each quadrant. \n",
    "**Note**: the arrows that fall in the axis (x=0 or y=0) don't belong to any quadrant."
   ]
  },
  {
   "cell_type": "code",
   "execution_count": 3,
   "metadata": {},
   "outputs": [
    {
     "name": "stdout",
     "output_type": "stream",
     "text": [
      "11\n",
      "7\n",
      "2\n",
      "2\n",
      "22\n"
     ]
    }
   ],
   "source": [
    "Q1 = sum(1 for x,y in points if x >= 0 and y > 0) \n",
    "print(Q1)\n",
    "\n",
    "Q2 = sum(1 for x,y in points if x <= 0 and y > 0) \n",
    "print(Q2)\n",
    "\n",
    "Q3 = sum(1 for x,y in points if x < 0 and y <= 0) \n",
    "print(Q3)\n",
    "\n",
    "Q4 = sum(1 for x,y in points if x > 0 and y <= 0) \n",
    "print(Q4)\n",
    "\n",
    "quadrants = Q1 + Q2 + Q3 + Q4\n",
    "print(quadrants)"
   ]
  },
  {
   "cell_type": "markdown",
   "metadata": {},
   "source": [
    "#### 3. Find the point closest to the center. Calculate its distance to the center. \n",
    "Take into account that there might be more than one point at the minimum distance to the center.\n",
    "\n",
    "**Hint**: Use the Euclidean distance. You can find more information about it [here](https://en.wikipedia.org/wiki/Euclidean_distance).  \n",
    "**Hint**: Defining a function that calculates the distance to the center can help."
   ]
  },
  {
   "cell_type": "code",
   "execution_count": 4,
   "metadata": {},
   "outputs": [
    {
     "name": "stdout",
     "output_type": "stream",
     "text": [
      "22.02271554554524\n"
     ]
    },
    {
     "data": {
      "text/plain": [
       "(2, 2)"
      ]
     },
     "execution_count": 4,
     "metadata": {},
     "output_type": "execute_result"
    }
   ],
   "source": [
    "points_x = list(x for x, y in points)\n",
    "points_y = list(y for x, y in points)\n",
    "import math\n",
    "euclidean_distance = math.sqrt(((points_x[0]-points_y[0])**2) + ((points_x[1]-points_y[1])**2) + ((points_x[2]-points_y[2])**2) + ((points_x[3]-points_y[3])**2) + ((points_x[4]-points_y[4])**2) + ((points_x[5]-points_y[5])**2) + ((points_x[6]-points_y[6])**2) + ((points_x[7]-points_y[7])**2) + ((points_x[8]-points_y[8])**2) + ((points_x[9]-points_y[9])**2) + ((points_x[10]-points_y[10])**2) + ((points_x[11]-points_y[11])**2) + ((points_x[12]-points_y[12])**2) + ((points_x[13]-points_y[13])**2) + ((points_x[14]-points_y[14])**2) + ((points_x[15]-points_y[15])**2) + ((points_x[16]-points_y[16])**2) + ((points_x[17]-points_y[17])**2) + ((points_x[18]-points_y[18])**2) + ((points_x[19]-points_y[19])**2) + math.sqrt(((points_x[20]-points_y[20])**2) + ((points_x[21]-points_y[21])**2)))\n",
    "print(euclidean_distance)\n",
    "\n",
    "def closest_to_center():\n",
    "    for x in range(len(points)):\n",
    "        for x,y in points:\n",
    "            if -1 <= x >= 1 and -1 <= y >= 1:\n",
    "                return x,y\n",
    "\n",
    "closest_to_center()\n"
   ]
  },
  {
   "cell_type": "markdown",
   "metadata": {},
   "source": [
    "#### 4. If the archery target has a radius of 9, calculate the number of arrows that won't hit the target. \n",
    "**Hint**: Use the function created in step 3. "
   ]
  },
  {
   "cell_type": "code",
   "execution_count": 51,
   "metadata": {},
   "outputs": [
    {
     "name": "stdout",
     "output_type": "stream",
     "text": [
      "{(9, 9), (-8, -9)}\n"
     ]
    }
   ],
   "source": [
    "lost_target_x1 = list((x,y) for x,y in points if (9 <= x))\n",
    "lost_target_x2 = list((x,y) for x,y in points if (-9 == x >= -9))\n",
    "lost_target_x3 = list((x,y) for x,y in points if (9 <= y))\n",
    "lost_target_x4 = list((x,y) for x,y in points if (-9 == y >= -9))\n",
    "print(set(lost_target_x1+lost_target_x3+lost_target_x2+lost_target_x4))\n"
   ]
  }
 ],
 "metadata": {
  "kernelspec": {
   "display_name": "Python 3",
   "language": "python",
   "name": "python3"
  },
  "language_info": {
   "codemirror_mode": {
    "name": "ipython",
    "version": 3
   },
   "file_extension": ".py",
   "mimetype": "text/x-python",
   "name": "python",
   "nbconvert_exporter": "python",
   "pygments_lexer": "ipython3",
   "version": "3.7.5"
  }
 },
 "nbformat": 4,
 "nbformat_minor": 2
}
